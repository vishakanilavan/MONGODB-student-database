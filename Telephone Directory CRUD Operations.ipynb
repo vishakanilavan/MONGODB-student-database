{
 "cells": [
  {
   "cell_type": "code",
   "execution_count": 27,
   "id": "0c55ff12",
   "metadata": {},
   "outputs": [],
   "source": [
    "import pymongo as p\n",
    "client=p.MongoClient(\"mongodb://localhost:27017/\")\n",
    "db=client[\"Department\"]\n",
    "mycol=db[\"Telephone_Directory\"]"
   ]
  },
  {
   "cell_type": "code",
   "execution_count": 19,
   "id": "626afb29",
   "metadata": {},
   "outputs": [
    {
     "name": "stdout",
     "output_type": "stream",
     "text": [
      "['admin', 'config', 'database', 'db1', 'local', 'mydatabase', 'mydb']\n"
     ]
    }
   ],
   "source": [
    "print(client.list_database_names())"
   ]
  },
  {
   "cell_type": "markdown",
   "id": "f67978d4",
   "metadata": {},
   "source": [
    "# Insert the records:"
   ]
  },
  {
   "cell_type": "code",
   "execution_count": 20,
   "id": "af5b2d09",
   "metadata": {},
   "outputs": [],
   "source": [
    "dict1={'Name':\"Gokul\",'Phone_no':239456,'Place':\"Thootukudi\"}\n",
    "x=mycol.insert_one(dict1)\n",
    "dict2=[{'Name':\"Vishak\",'Phone_no':240219,'Place':\"Bhavanisagar\"},{'Name':\"Kumar\",'Phone_no':240249,'Place':\"Erode\"}]\n",
    "x=mycol.insert_many(dict2)"
   ]
  },
  {
   "cell_type": "markdown",
   "id": "a65cca3b",
   "metadata": {},
   "source": [
    "# 2) Query the records:"
   ]
  },
  {
   "cell_type": "code",
   "execution_count": 21,
   "id": "309108b1",
   "metadata": {},
   "outputs": [
    {
     "name": "stdout",
     "output_type": "stream",
     "text": [
      "{'_id': ObjectId('63a2862cc19603dc98bf9416'), 'Name': 'Gokul', 'Phone_no': 239456, 'Place': 'Thootukudi'}\n",
      "{'_id': ObjectId('63a2862dc19603dc98bf9417'), 'Name': 'Vishak', 'Phone_no': 240219, 'Place': 'Bhavanisagar'}\n",
      "{'_id': ObjectId('63a2862dc19603dc98bf9418'), 'Name': 'Kumar', 'Phone_no': 240249, 'Place': 'Erode'}\n"
     ]
    }
   ],
   "source": [
    "x=mycol.find()\n",
    "for i in x:\n",
    "    print(i)"
   ]
  },
  {
   "cell_type": "markdown",
   "id": "386fdc77",
   "metadata": {},
   "source": [
    "# 3) Update the records:"
   ]
  },
  {
   "cell_type": "code",
   "execution_count": 28,
   "id": "16842361",
   "metadata": {},
   "outputs": [
    {
     "name": "stdout",
     "output_type": "stream",
     "text": [
      "{'_id': ObjectId('63a2862cc19603dc98bf9416'), 'Name': 'Gokul', 'Phone_no': 239456, 'Place': 'Thootukudi'}\n",
      "{'_id': ObjectId('63a2862dc19603dc98bf9417'), 'Name': 'Vishak', 'Phone_no': 240219, 'Place': 'Sathyamangalam'}\n",
      "{'_id': ObjectId('63a2862dc19603dc98bf9418'), 'Name': 'Kumar', 'Phone_no': 240249, 'Place': 'Sathyamangalam'}\n"
     ]
    }
   ],
   "source": [
    "myquery={'Place':{\"$lt\":\"K\"}}\n",
    "newvalues={\"$set\":{\"Place\":\"Sathyamangalam\"}}\n",
    "x=mycol.update_one(myquery,newvalues)\n",
    "x=mycol.find()\n",
    "for i in x:\n",
    "    print(i)"
   ]
  },
  {
   "cell_type": "markdown",
   "id": "f2d86de1",
   "metadata": {},
   "source": [
    "# 4) Delete the record:"
   ]
  },
  {
   "cell_type": "code",
   "execution_count": 29,
   "id": "e49b068b",
   "metadata": {},
   "outputs": [],
   "source": [
    "x=mycol.delete_one({'Phone_no':240249})"
   ]
  },
  {
   "cell_type": "code",
   "execution_count": 30,
   "id": "d058f810",
   "metadata": {},
   "outputs": [
    {
     "name": "stdout",
     "output_type": "stream",
     "text": [
      "{'_id': ObjectId('63a2862cc19603dc98bf9416'), 'Name': 'Gokul', 'Phone_no': 239456, 'Place': 'Thootukudi'}\n",
      "{'_id': ObjectId('63a2862dc19603dc98bf9417'), 'Name': 'Vishak', 'Phone_no': 240219, 'Place': 'Sathyamangalam'}\n"
     ]
    }
   ],
   "source": [
    "x=mycol.find()\n",
    "for i in x:\n",
    "    print(i)"
   ]
  },
  {
   "cell_type": "code",
   "execution_count": null,
   "id": "521ccc73",
   "metadata": {},
   "outputs": [],
   "source": []
  }
 ],
 "metadata": {
  "kernelspec": {
   "display_name": "Python 3 (ipykernel)",
   "language": "python",
   "name": "python3"
  },
  "language_info": {
   "codemirror_mode": {
    "name": "ipython",
    "version": 3
   },
   "file_extension": ".py",
   "mimetype": "text/x-python",
   "name": "python",
   "nbconvert_exporter": "python",
   "pygments_lexer": "ipython3",
   "version": "3.9.13"
  }
 },
 "nbformat": 4,
 "nbformat_minor": 5
}
